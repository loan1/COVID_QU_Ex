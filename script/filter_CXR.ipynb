{
 "cells": [
  {
   "cell_type": "code",
   "execution_count": 1,
   "metadata": {},
   "outputs": [],
   "source": [
    "import cv2\n",
    "import matplotlib.pyplot as plt\n",
    "import numpy as np\n",
    "from skimage import morphology\n",
    "import os\n",
    "import os.path as path\n",
    "import shutil\n",
    "import pandas as pd"
   ]
  },
  {
   "cell_type": "code",
   "execution_count": 2,
   "metadata": {},
   "outputs": [],
   "source": [
    "def filter(file_name, mask_path, source_path, des_path):\n",
    "    mask = cv2.imread(mask_path + file_name,0)\n",
    "    # plt.imshow(mask,cmap = 'gray')\n",
    "    _, thresh = cv2.threshold(mask, 0,1, cv2.THRESH_BINARY + cv2.THRESH_OTSU)\n",
    "    _,contours, _= cv2.findContours(thresh.copy(),cv2.RETR_TREE,cv2.CHAIN_APPROX_SIMPLE)\n",
    "    # print(\"Number of Contours found = \"+ str(len(contours)))\n",
    "\n",
    "    #tinh dien tich vung phoi phan doan\n",
    "    areas = []\n",
    "    for i in range(len(contours)):\n",
    "        areas.append(cv2.contourArea(contours[i]))\n",
    "    # print(areas)\n",
    "    areas = sum(areas)\n",
    "    # print(areas)\n",
    "\n",
    "    # loc anh\n",
    "    if areas < (256*256)/10:\n",
    "        shutil.copy(source_path + file_name, des_path)"
   ]
  },
  {
   "cell_type": "code",
   "execution_count": 3,
   "metadata": {},
   "outputs": [],
   "source": [
    "mask_path = '/home/trucloan/LoanDao/COVID_QU_Ex-main/visualize/FPN_DenseNet121/lung_mask/PositivePos/'\n",
    "source_path = '/home/trucloan/LoanDao/COVID_QU_Ex-main/COVIDx/EDA_Train/Positive/'\n",
    "des_path = '/home/trucloan/LoanDao/COVID_QU_Ex-main/COVIDx/EDA_Train/BadPositive/'\n",
    "\n",
    "# filter('A536707-01-06-1901-NA-CHEST_AP_PORT-00467-1.000000-AP-01709-1-1.jpg', mask_path, source_path, des_path)\n",
    "# good\n",
    "# '0a6c60063b4bae4de001caaba306d1_jumbo.jpeg'\n",
    "#bad\n",
    "#A536707-01-06-1901-NA-CHEST_AP_PORT-00467-1.000000-AP-01709-1-1.jpg"
   ]
  },
  {
   "cell_type": "code",
   "execution_count": 4,
   "metadata": {},
   "outputs": [
    {
     "data": {
      "text/plain": [
       "15994"
      ]
     },
     "execution_count": 4,
     "metadata": {},
     "output_type": "execute_result"
    }
   ],
   "source": [
    "file_name_list = os.listdir(mask_path)\n",
    "len(file_name_list)"
   ]
  },
  {
   "cell_type": "code",
   "execution_count": 5,
   "metadata": {},
   "outputs": [],
   "source": [
    "for idx in range(len(file_name_list)):\n",
    "    filter(file_name_list[idx], mask_path, source_path, des_path)"
   ]
  }
 ],
 "metadata": {
  "kernelspec": {
   "display_name": "Python 3.7.13 ('loan')",
   "language": "python",
   "name": "python3"
  },
  "language_info": {
   "codemirror_mode": {
    "name": "ipython",
    "version": 3
   },
   "file_extension": ".py",
   "mimetype": "text/x-python",
   "name": "python",
   "nbconvert_exporter": "python",
   "pygments_lexer": "ipython3",
   "version": "3.7.13"
  },
  "orig_nbformat": 4,
  "vscode": {
   "interpreter": {
    "hash": "ddabf1f45ecbb2c6d27dcc5dbdd633ad86c7a127856549164ced98c46bc4efe7"
   }
  }
 },
 "nbformat": 4,
 "nbformat_minor": 2
}

{
 "cells": [
  {
   "cell_type": "code",
   "execution_count": 1,
   "metadata": {},
   "outputs": [],
   "source": [
    "# https://www.kaggle.com/andyczhao/covidx-cxr2?select=train.txt"
   ]
  },
  {
   "cell_type": "code",
   "execution_count": 1,
   "metadata": {},
   "outputs": [],
   "source": [
    "#importing the libraries\n",
    "import pandas as pd\n",
    "import numpy as np\n",
    "from sklearn.model_selection import train_test_split\n",
    "\n",
    "import shutil\n",
    "import os\n",
    "import os.path as path"
   ]
  },
  {
   "cell_type": "code",
   "execution_count": 2,
   "metadata": {},
   "outputs": [],
   "source": [
    "#tao duong dan den data\n",
    "train_path = '/home/trucloan/LoanDao/COVID_QU_Ex-main/COVIDx/train/'\n",
    "test_path = '/home/trucloan/LoanDao/COVID_QU_Ex-main/COVIDx/test/'"
   ]
  },
  {
   "cell_type": "code",
   "execution_count": 3,
   "metadata": {},
   "outputs": [],
   "source": [
    "#doc file metadata\n",
    "train_metadata = '/home/trucloan/LoanDao/COVID_QU_Ex-main/COVIDx/train.txt'\n",
    "test_metadata = '/home/trucloan/LoanDao/COVID_QU_Ex-main/COVIDx/test.txt'\n",
    "train_txt= pd.read_csv(train_metadata, sep=\" \", header=None)\n",
    "test_txt = pd.read_csv(test_metadata, sep=\" \", header=None)"
   ]
  },
  {
   "cell_type": "code",
   "execution_count": 4,
   "metadata": {},
   "outputs": [
    {
     "data": {
      "text/html": [
       "<div>\n",
       "<style scoped>\n",
       "    .dataframe tbody tr th:only-of-type {\n",
       "        vertical-align: middle;\n",
       "    }\n",
       "\n",
       "    .dataframe tbody tr th {\n",
       "        vertical-align: top;\n",
       "    }\n",
       "\n",
       "    .dataframe thead th {\n",
       "        text-align: right;\n",
       "    }\n",
       "</style>\n",
       "<table border=\"1\" class=\"dataframe\">\n",
       "  <thead>\n",
       "    <tr style=\"text-align: right;\">\n",
       "      <th></th>\n",
       "      <th>patient id</th>\n",
       "      <th>file_name</th>\n",
       "      <th>class</th>\n",
       "      <th>source</th>\n",
       "    </tr>\n",
       "  </thead>\n",
       "  <tbody>\n",
       "    <tr>\n",
       "      <th>0</th>\n",
       "      <td>5</td>\n",
       "      <td>ARDSSevere.png</td>\n",
       "      <td>negative</td>\n",
       "      <td>cohen</td>\n",
       "    </tr>\n",
       "    <tr>\n",
       "      <th>1</th>\n",
       "      <td>25</td>\n",
       "      <td>acute-respiratory-distress-syndrome-ards-1.jpg</td>\n",
       "      <td>negative</td>\n",
       "      <td>cohen</td>\n",
       "    </tr>\n",
       "    <tr>\n",
       "      <th>2</th>\n",
       "      <td>26</td>\n",
       "      <td>acute-respiratory-distress-syndrome-ards.jpg</td>\n",
       "      <td>negative</td>\n",
       "      <td>cohen</td>\n",
       "    </tr>\n",
       "    <tr>\n",
       "      <th>3</th>\n",
       "      <td>27</td>\n",
       "      <td>ards-secondary-to-tiger-snake-bite.png</td>\n",
       "      <td>negative</td>\n",
       "      <td>cohen</td>\n",
       "    </tr>\n",
       "    <tr>\n",
       "      <th>4</th>\n",
       "      <td>28</td>\n",
       "      <td>pneumocystis-pneumonia-2-PA.png</td>\n",
       "      <td>negative</td>\n",
       "      <td>cohen</td>\n",
       "    </tr>\n",
       "  </tbody>\n",
       "</table>\n",
       "</div>"
      ],
      "text/plain": [
       "  patient id                                       file_name     class source\n",
       "0          5                                  ARDSSevere.png  negative  cohen\n",
       "1         25  acute-respiratory-distress-syndrome-ards-1.jpg  negative  cohen\n",
       "2         26    acute-respiratory-distress-syndrome-ards.jpg  negative  cohen\n",
       "3         27          ards-secondary-to-tiger-snake-bite.png  negative  cohen\n",
       "4         28                 pneumocystis-pneumonia-2-PA.png  negative  cohen"
      ]
     },
     "execution_count": 4,
     "metadata": {},
     "output_type": "execute_result"
    }
   ],
   "source": [
    "#gan ten cot\n",
    "train_txt.columns= [\"patient id\",\"file_name\",\"class\",\"source\"]\n",
    "train_txt.head()"
   ]
  },
  {
   "cell_type": "code",
   "execution_count": 5,
   "metadata": {},
   "outputs": [
    {
     "data": {
      "text/html": [
       "<div>\n",
       "<style scoped>\n",
       "    .dataframe tbody tr th:only-of-type {\n",
       "        vertical-align: middle;\n",
       "    }\n",
       "\n",
       "    .dataframe tbody tr th {\n",
       "        vertical-align: top;\n",
       "    }\n",
       "\n",
       "    .dataframe thead th {\n",
       "        text-align: right;\n",
       "    }\n",
       "</style>\n",
       "<table border=\"1\" class=\"dataframe\">\n",
       "  <thead>\n",
       "    <tr style=\"text-align: right;\">\n",
       "      <th></th>\n",
       "      <th>patient id</th>\n",
       "      <th>file_name</th>\n",
       "      <th>class</th>\n",
       "      <th>source</th>\n",
       "      <th>label</th>\n",
       "    </tr>\n",
       "  </thead>\n",
       "  <tbody>\n",
       "    <tr>\n",
       "      <th>0</th>\n",
       "      <td>5</td>\n",
       "      <td>ARDSSevere.png</td>\n",
       "      <td>negative</td>\n",
       "      <td>cohen</td>\n",
       "      <td>0</td>\n",
       "    </tr>\n",
       "    <tr>\n",
       "      <th>1</th>\n",
       "      <td>25</td>\n",
       "      <td>acute-respiratory-distress-syndrome-ards-1.jpg</td>\n",
       "      <td>negative</td>\n",
       "      <td>cohen</td>\n",
       "      <td>0</td>\n",
       "    </tr>\n",
       "    <tr>\n",
       "      <th>2</th>\n",
       "      <td>26</td>\n",
       "      <td>acute-respiratory-distress-syndrome-ards.jpg</td>\n",
       "      <td>negative</td>\n",
       "      <td>cohen</td>\n",
       "      <td>0</td>\n",
       "    </tr>\n",
       "    <tr>\n",
       "      <th>3</th>\n",
       "      <td>27</td>\n",
       "      <td>ards-secondary-to-tiger-snake-bite.png</td>\n",
       "      <td>negative</td>\n",
       "      <td>cohen</td>\n",
       "      <td>0</td>\n",
       "    </tr>\n",
       "    <tr>\n",
       "      <th>4</th>\n",
       "      <td>28</td>\n",
       "      <td>pneumocystis-pneumonia-2-PA.png</td>\n",
       "      <td>negative</td>\n",
       "      <td>cohen</td>\n",
       "      <td>0</td>\n",
       "    </tr>\n",
       "    <tr>\n",
       "      <th>...</th>\n",
       "      <td>...</td>\n",
       "      <td>...</td>\n",
       "      <td>...</td>\n",
       "      <td>...</td>\n",
       "      <td>...</td>\n",
       "    </tr>\n",
       "    <tr>\n",
       "      <th>29981</th>\n",
       "      <td>55204bb8-89fc-449d-8563-e91654abea9d</td>\n",
       "      <td>55204bb8-89fc-449d-8563-e91654abea9d.png</td>\n",
       "      <td>negative</td>\n",
       "      <td>rsna</td>\n",
       "      <td>0</td>\n",
       "    </tr>\n",
       "    <tr>\n",
       "      <th>29982</th>\n",
       "      <td>0f4b80b6-fd39-451f-aebf-7cdb1b655c0b</td>\n",
       "      <td>0f4b80b6-fd39-451f-aebf-7cdb1b655c0b.png</td>\n",
       "      <td>negative</td>\n",
       "      <td>rsna</td>\n",
       "      <td>0</td>\n",
       "    </tr>\n",
       "    <tr>\n",
       "      <th>29983</th>\n",
       "      <td>5fb64e85-62ef-4852-8ad1-f799015c8cc3</td>\n",
       "      <td>5fb64e85-62ef-4852-8ad1-f799015c8cc3.png</td>\n",
       "      <td>negative</td>\n",
       "      <td>rsna</td>\n",
       "      <td>0</td>\n",
       "    </tr>\n",
       "    <tr>\n",
       "      <th>29984</th>\n",
       "      <td>c57ad4fd-3aa8-4ae8-a262-7336360d8265</td>\n",
       "      <td>c57ad4fd-3aa8-4ae8-a262-7336360d8265.png</td>\n",
       "      <td>negative</td>\n",
       "      <td>rsna</td>\n",
       "      <td>0</td>\n",
       "    </tr>\n",
       "    <tr>\n",
       "      <th>29985</th>\n",
       "      <td>c56b4527-615d-414f-a375-081e6f3bbfdc</td>\n",
       "      <td>c56b4527-615d-414f-a375-081e6f3bbfdc.png</td>\n",
       "      <td>negative</td>\n",
       "      <td>rsna</td>\n",
       "      <td>0</td>\n",
       "    </tr>\n",
       "  </tbody>\n",
       "</table>\n",
       "<p>29986 rows × 5 columns</p>\n",
       "</div>"
      ],
      "text/plain": [
       "                                 patient id  \\\n",
       "0                                         5   \n",
       "1                                        25   \n",
       "2                                        26   \n",
       "3                                        27   \n",
       "4                                        28   \n",
       "...                                     ...   \n",
       "29981  55204bb8-89fc-449d-8563-e91654abea9d   \n",
       "29982  0f4b80b6-fd39-451f-aebf-7cdb1b655c0b   \n",
       "29983  5fb64e85-62ef-4852-8ad1-f799015c8cc3   \n",
       "29984  c57ad4fd-3aa8-4ae8-a262-7336360d8265   \n",
       "29985  c56b4527-615d-414f-a375-081e6f3bbfdc   \n",
       "\n",
       "                                            file_name     class source  label  \n",
       "0                                      ARDSSevere.png  negative  cohen      0  \n",
       "1      acute-respiratory-distress-syndrome-ards-1.jpg  negative  cohen      0  \n",
       "2        acute-respiratory-distress-syndrome-ards.jpg  negative  cohen      0  \n",
       "3              ards-secondary-to-tiger-snake-bite.png  negative  cohen      0  \n",
       "4                     pneumocystis-pneumonia-2-PA.png  negative  cohen      0  \n",
       "...                                               ...       ...    ...    ...  \n",
       "29981        55204bb8-89fc-449d-8563-e91654abea9d.png  negative   rsna      0  \n",
       "29982        0f4b80b6-fd39-451f-aebf-7cdb1b655c0b.png  negative   rsna      0  \n",
       "29983        5fb64e85-62ef-4852-8ad1-f799015c8cc3.png  negative   rsna      0  \n",
       "29984        c57ad4fd-3aa8-4ae8-a262-7336360d8265.png  negative   rsna      0  \n",
       "29985        c56b4527-615d-414f-a375-081e6f3bbfdc.png  negative   rsna      0  \n",
       "\n",
       "[29986 rows x 5 columns]"
      ]
     },
     "execution_count": 5,
     "metadata": {},
     "output_type": "execute_result"
    }
   ],
   "source": [
    "#https://www.dataquest.io/blog/tutorial-add-column-pandas-dataframe-based-on-if-else-condition/\n",
    "train_txt['label'] = np.where(train_txt['class']== 'negative', 0, 1) #tao cot label theo dk cua class\n",
    "train_txt"
   ]
  },
  {
   "cell_type": "code",
   "execution_count": 6,
   "metadata": {},
   "outputs": [
    {
     "data": {
      "text/html": [
       "<div>\n",
       "<style scoped>\n",
       "    .dataframe tbody tr th:only-of-type {\n",
       "        vertical-align: middle;\n",
       "    }\n",
       "\n",
       "    .dataframe tbody tr th {\n",
       "        vertical-align: top;\n",
       "    }\n",
       "\n",
       "    .dataframe thead th {\n",
       "        text-align: right;\n",
       "    }\n",
       "</style>\n",
       "<table border=\"1\" class=\"dataframe\">\n",
       "  <thead>\n",
       "    <tr style=\"text-align: right;\">\n",
       "      <th></th>\n",
       "      <th>file_name</th>\n",
       "      <th>label</th>\n",
       "    </tr>\n",
       "  </thead>\n",
       "  <tbody>\n",
       "    <tr>\n",
       "      <th>0</th>\n",
       "      <td>ARDSSevere.png</td>\n",
       "      <td>0</td>\n",
       "    </tr>\n",
       "    <tr>\n",
       "      <th>1</th>\n",
       "      <td>acute-respiratory-distress-syndrome-ards-1.jpg</td>\n",
       "      <td>0</td>\n",
       "    </tr>\n",
       "    <tr>\n",
       "      <th>2</th>\n",
       "      <td>acute-respiratory-distress-syndrome-ards.jpg</td>\n",
       "      <td>0</td>\n",
       "    </tr>\n",
       "    <tr>\n",
       "      <th>3</th>\n",
       "      <td>ards-secondary-to-tiger-snake-bite.png</td>\n",
       "      <td>0</td>\n",
       "    </tr>\n",
       "    <tr>\n",
       "      <th>4</th>\n",
       "      <td>pneumocystis-pneumonia-2-PA.png</td>\n",
       "      <td>0</td>\n",
       "    </tr>\n",
       "    <tr>\n",
       "      <th>...</th>\n",
       "      <td>...</td>\n",
       "      <td>...</td>\n",
       "    </tr>\n",
       "    <tr>\n",
       "      <th>29981</th>\n",
       "      <td>55204bb8-89fc-449d-8563-e91654abea9d.png</td>\n",
       "      <td>0</td>\n",
       "    </tr>\n",
       "    <tr>\n",
       "      <th>29982</th>\n",
       "      <td>0f4b80b6-fd39-451f-aebf-7cdb1b655c0b.png</td>\n",
       "      <td>0</td>\n",
       "    </tr>\n",
       "    <tr>\n",
       "      <th>29983</th>\n",
       "      <td>5fb64e85-62ef-4852-8ad1-f799015c8cc3.png</td>\n",
       "      <td>0</td>\n",
       "    </tr>\n",
       "    <tr>\n",
       "      <th>29984</th>\n",
       "      <td>c57ad4fd-3aa8-4ae8-a262-7336360d8265.png</td>\n",
       "      <td>0</td>\n",
       "    </tr>\n",
       "    <tr>\n",
       "      <th>29985</th>\n",
       "      <td>c56b4527-615d-414f-a375-081e6f3bbfdc.png</td>\n",
       "      <td>0</td>\n",
       "    </tr>\n",
       "  </tbody>\n",
       "</table>\n",
       "<p>29986 rows × 2 columns</p>\n",
       "</div>"
      ],
      "text/plain": [
       "                                            file_name  label\n",
       "0                                      ARDSSevere.png      0\n",
       "1      acute-respiratory-distress-syndrome-ards-1.jpg      0\n",
       "2        acute-respiratory-distress-syndrome-ards.jpg      0\n",
       "3              ards-secondary-to-tiger-snake-bite.png      0\n",
       "4                     pneumocystis-pneumonia-2-PA.png      0\n",
       "...                                               ...    ...\n",
       "29981        55204bb8-89fc-449d-8563-e91654abea9d.png      0\n",
       "29982        0f4b80b6-fd39-451f-aebf-7cdb1b655c0b.png      0\n",
       "29983        5fb64e85-62ef-4852-8ad1-f799015c8cc3.png      0\n",
       "29984        c57ad4fd-3aa8-4ae8-a262-7336360d8265.png      0\n",
       "29985        c56b4527-615d-414f-a375-081e6f3bbfdc.png      0\n",
       "\n",
       "[29986 rows x 2 columns]"
      ]
     },
     "execution_count": 6,
     "metadata": {},
     "output_type": "execute_result"
    }
   ],
   "source": [
    "#chi lay cot filename va label (1,4)\n",
    "train_txt1 = train_txt.iloc[:,[1,4]]\n",
    "train_txt1"
   ]
  },
  {
   "cell_type": "code",
   "execution_count": 7,
   "metadata": {},
   "outputs": [],
   "source": [
    "path_label = ['../COVIDx/EDA_Train/Negative/', '../COVIDx/EDA_Train/Positive/'] # tạo 2 thư mục chứa ảnh phân vùng theo nhãn (Positive - Negative)\n",
    "\n",
    "for i in range(len(path_label)):\n",
    "    if not path.exists(path_label[i]): \n",
    "        os.mkdir(path_label[i])"
   ]
  },
  {
   "cell_type": "code",
   "execution_count": 9,
   "metadata": {},
   "outputs": [
    {
     "name": "stderr",
     "output_type": "stream",
     "text": [
      "/home/trucloan/anaconda3/envs/loan/lib/python3.7/site-packages/ipykernel_launcher.py:2: SettingWithCopyWarning: \n",
      "A value is trying to be set on a copy of a slice from a DataFrame\n",
      "\n",
      "See the caveats in the documentation: https://pandas.pydata.org/pandas-docs/stable/user_guide/indexing.html#returning-a-view-versus-a-copy\n",
      "  \n"
     ]
    },
    {
     "data": {
      "text/plain": [
       "../COVIDx/Positive/    15994\n",
       "../COVIDx/Negative/    13992\n",
       "Name: label, dtype: int64"
      ]
     },
     "execution_count": 9,
     "metadata": {},
     "output_type": "execute_result"
    }
   ],
   "source": [
    "# lb = train_txt['label']\n",
    "# lb['bins'] = pd.cut(x = train_txt['label'], bins = 2, labels=path_label)\n",
    "# lb['bins'].value_counts()"
   ]
  },
  {
   "cell_type": "code",
   "execution_count": 8,
   "metadata": {},
   "outputs": [],
   "source": [
    "#copy ảnh tải về phân chia vào từng thư mục theo label\n",
    "source = '../COVIDx/train/'\n",
    "for i in range(len(train_txt)):\n",
    "    if (train_txt['label'][i] ==0):\n",
    "        shutil.copy(source + train_txt['file_name'][i], path_label[0])\n",
    "    elif (train_txt['label'][i] == 1):\n",
    "        shutil.copy(source + train_txt['file_name'][i], path_label[1])"
   ]
  },
  {
   "cell_type": "code",
   "execution_count": 9,
   "metadata": {},
   "outputs": [
    {
     "name": "stdout",
     "output_type": "stream",
     "text": [
      "../COVIDx/EDA_Train/Negative/ 13992\n",
      "../COVIDx/EDA_Train/Positive/ 15994\n"
     ]
    }
   ],
   "source": [
    "for i in range(len(path_label)):\n",
    "    print(path_label[i], len(os.listdir(path_label[i]))) #xem có bao nhiêu file trong thư mục"
   ]
  },
  {
   "cell_type": "code",
   "execution_count": null,
   "metadata": {},
   "outputs": [],
   "source": []
  },
  {
   "cell_type": "code",
   "execution_count": null,
   "metadata": {},
   "outputs": [],
   "source": []
  },
  {
   "cell_type": "code",
   "execution_count": 12,
   "metadata": {},
   "outputs": [],
   "source": [
    "path_label50 = ['../COVIDx/Negative50/', '../COVIDx/Positive50/'] # tạo 2 thư mục chứa 50 ảnh phân vùng theo nhãn (Positive - Negative)\n",
    "\n",
    "for i in range(len(path_label50)):\n",
    "    if not path.exists(path_label50[i]): \n",
    "        os.mkdir(path_label50[i])"
   ]
  },
  {
   "cell_type": "code",
   "execution_count": 13,
   "metadata": {},
   "outputs": [
    {
     "name": "stderr",
     "output_type": "stream",
     "text": [
      "/home/trucloan/anaconda3/envs/loan/lib/python3.7/site-packages/ipykernel_launcher.py:2: SettingWithCopyWarning: \n",
      "A value is trying to be set on a copy of a slice from a DataFrame\n",
      "\n",
      "See the caveats in the documentation: https://pandas.pydata.org/pandas-docs/stable/user_guide/indexing.html#returning-a-view-versus-a-copy\n",
      "  \n",
      "/home/trucloan/anaconda3/envs/loan/lib/python3.7/site-packages/pandas/core/indexing.py:1724: SettingWithCopyWarning: \n",
      "A value is trying to be set on a copy of a slice from a DataFrame\n",
      "\n",
      "See the caveats in the documentation: https://pandas.pydata.org/pandas-docs/stable/user_guide/indexing.html#returning-a-view-versus-a-copy\n",
      "  self._setitem_with_indexer_missing(indexer, value)\n"
     ]
    },
    {
     "data": {
      "text/plain": [
       "../COVIDx/Positive50/    15994\n",
       "../COVIDx/Negative50/    13992\n",
       "Name: label, dtype: int64"
      ]
     },
     "execution_count": 13,
     "metadata": {},
     "output_type": "execute_result"
    }
   ],
   "source": [
    "lb50 = train_txt1['label']\n",
    "lb50['bins'] = pd.cut(x = train_txt1['label'], bins = 2, labels=path_label50)\n",
    "lb50['bins'].value_counts()"
   ]
  },
  {
   "cell_type": "code",
   "execution_count": 14,
   "metadata": {},
   "outputs": [],
   "source": [
    "source = '../COVIDx/train/'\n",
    "for i in range(50):\n",
    "    if (train_txt1['label'][i] ==0):\n",
    "        shutil.copy(source + train_txt['file_name'][i], path_label50[0])\n",
    "    elif (train_txt['label'][i] == 1):\n",
    "        shutil.copy(source + train_txt['file_name'][i], path_label50[1])"
   ]
  },
  {
   "cell_type": "code",
   "execution_count": 15,
   "metadata": {},
   "outputs": [
    {
     "data": {
      "text/plain": [
       "'../COVIDx/Positive50/'"
      ]
     },
     "execution_count": 15,
     "metadata": {},
     "output_type": "execute_result"
    }
   ],
   "source": [
    "path_label50[1]"
   ]
  },
  {
   "cell_type": "code",
   "execution_count": null,
   "metadata": {},
   "outputs": [],
   "source": []
  },
  {
   "cell_type": "code",
   "execution_count": 16,
   "metadata": {},
   "outputs": [
    {
     "data": {
      "text/html": [
       "<div>\n",
       "<style scoped>\n",
       "    .dataframe tbody tr th:only-of-type {\n",
       "        vertical-align: middle;\n",
       "    }\n",
       "\n",
       "    .dataframe tbody tr th {\n",
       "        vertical-align: top;\n",
       "    }\n",
       "\n",
       "    .dataframe thead th {\n",
       "        text-align: right;\n",
       "    }\n",
       "</style>\n",
       "<table border=\"1\" class=\"dataframe\">\n",
       "  <thead>\n",
       "    <tr style=\"text-align: right;\">\n",
       "      <th></th>\n",
       "      <th>patient id</th>\n",
       "      <th>file_name</th>\n",
       "      <th>class</th>\n",
       "      <th>source</th>\n",
       "    </tr>\n",
       "  </thead>\n",
       "  <tbody>\n",
       "    <tr>\n",
       "      <th>0</th>\n",
       "      <td>419639-003251</td>\n",
       "      <td>MIDRC-RICORD-1C-419639-003251-46647-0.png</td>\n",
       "      <td>positive</td>\n",
       "      <td>ricord</td>\n",
       "    </tr>\n",
       "    <tr>\n",
       "      <th>1</th>\n",
       "      <td>419639-001464</td>\n",
       "      <td>MIDRC-RICORD-1C-419639-001464-39871-0.png</td>\n",
       "      <td>positive</td>\n",
       "      <td>ricord</td>\n",
       "    </tr>\n",
       "    <tr>\n",
       "      <th>2</th>\n",
       "      <td>419639-000918</td>\n",
       "      <td>MIDRC-RICORD-1C-419639-000918-78965-0.png</td>\n",
       "      <td>positive</td>\n",
       "      <td>ricord</td>\n",
       "    </tr>\n",
       "    <tr>\n",
       "      <th>3</th>\n",
       "      <td>419639-003318</td>\n",
       "      <td>MIDRC-RICORD-1C-419639-003318-64285-0.png</td>\n",
       "      <td>positive</td>\n",
       "      <td>ricord</td>\n",
       "    </tr>\n",
       "    <tr>\n",
       "      <th>4</th>\n",
       "      <td>419639-001015</td>\n",
       "      <td>MIDRC-RICORD-1C-419639-001015-81591-0.png</td>\n",
       "      <td>positive</td>\n",
       "      <td>ricord</td>\n",
       "    </tr>\n",
       "  </tbody>\n",
       "</table>\n",
       "</div>"
      ],
      "text/plain": [
       "      patient id                                  file_name     class  source\n",
       "0  419639-003251  MIDRC-RICORD-1C-419639-003251-46647-0.png  positive  ricord\n",
       "1  419639-001464  MIDRC-RICORD-1C-419639-001464-39871-0.png  positive  ricord\n",
       "2  419639-000918  MIDRC-RICORD-1C-419639-000918-78965-0.png  positive  ricord\n",
       "3  419639-003318  MIDRC-RICORD-1C-419639-003318-64285-0.png  positive  ricord\n",
       "4  419639-001015  MIDRC-RICORD-1C-419639-001015-81591-0.png  positive  ricord"
      ]
     },
     "execution_count": 16,
     "metadata": {},
     "output_type": "execute_result"
    }
   ],
   "source": [
    "#gan ten cot tren file test\n",
    "test_txt.columns= [\"patient id\",\"file_name\",\"class\",\"source\"]\n",
    "test_txt.head()"
   ]
  },
  {
   "cell_type": "code",
   "execution_count": 17,
   "metadata": {},
   "outputs": [
    {
     "data": {
      "text/html": [
       "<div>\n",
       "<style scoped>\n",
       "    .dataframe tbody tr th:only-of-type {\n",
       "        vertical-align: middle;\n",
       "    }\n",
       "\n",
       "    .dataframe tbody tr th {\n",
       "        vertical-align: top;\n",
       "    }\n",
       "\n",
       "    .dataframe thead th {\n",
       "        text-align: right;\n",
       "    }\n",
       "</style>\n",
       "<table border=\"1\" class=\"dataframe\">\n",
       "  <thead>\n",
       "    <tr style=\"text-align: right;\">\n",
       "      <th></th>\n",
       "      <th>patient id</th>\n",
       "      <th>file_name</th>\n",
       "      <th>class</th>\n",
       "      <th>source</th>\n",
       "      <th>label</th>\n",
       "    </tr>\n",
       "  </thead>\n",
       "  <tbody>\n",
       "    <tr>\n",
       "      <th>0</th>\n",
       "      <td>419639-003251</td>\n",
       "      <td>MIDRC-RICORD-1C-419639-003251-46647-0.png</td>\n",
       "      <td>positive</td>\n",
       "      <td>ricord</td>\n",
       "      <td>1</td>\n",
       "    </tr>\n",
       "    <tr>\n",
       "      <th>1</th>\n",
       "      <td>419639-001464</td>\n",
       "      <td>MIDRC-RICORD-1C-419639-001464-39871-0.png</td>\n",
       "      <td>positive</td>\n",
       "      <td>ricord</td>\n",
       "      <td>1</td>\n",
       "    </tr>\n",
       "    <tr>\n",
       "      <th>2</th>\n",
       "      <td>419639-000918</td>\n",
       "      <td>MIDRC-RICORD-1C-419639-000918-78965-0.png</td>\n",
       "      <td>positive</td>\n",
       "      <td>ricord</td>\n",
       "      <td>1</td>\n",
       "    </tr>\n",
       "    <tr>\n",
       "      <th>3</th>\n",
       "      <td>419639-003318</td>\n",
       "      <td>MIDRC-RICORD-1C-419639-003318-64285-0.png</td>\n",
       "      <td>positive</td>\n",
       "      <td>ricord</td>\n",
       "      <td>1</td>\n",
       "    </tr>\n",
       "    <tr>\n",
       "      <th>4</th>\n",
       "      <td>419639-001015</td>\n",
       "      <td>MIDRC-RICORD-1C-419639-001015-81591-0.png</td>\n",
       "      <td>positive</td>\n",
       "      <td>ricord</td>\n",
       "      <td>1</td>\n",
       "    </tr>\n",
       "    <tr>\n",
       "      <th>...</th>\n",
       "      <td>...</td>\n",
       "      <td>...</td>\n",
       "      <td>...</td>\n",
       "      <td>...</td>\n",
       "      <td>...</td>\n",
       "    </tr>\n",
       "    <tr>\n",
       "      <th>395</th>\n",
       "      <td>a77b32f6-1999-4cc6-8a0d-1ef7e53850f0</td>\n",
       "      <td>a77b32f6-1999-4cc6-8a0d-1ef7e53850f0.png</td>\n",
       "      <td>negative</td>\n",
       "      <td>rsna</td>\n",
       "      <td>0</td>\n",
       "    </tr>\n",
       "    <tr>\n",
       "      <th>396</th>\n",
       "      <td>41bf2042-53a2-44a8-9a29-55e643af5ac0</td>\n",
       "      <td>41bf2042-53a2-44a8-9a29-55e643af5ac0.png</td>\n",
       "      <td>negative</td>\n",
       "      <td>rsna</td>\n",
       "      <td>0</td>\n",
       "    </tr>\n",
       "    <tr>\n",
       "      <th>397</th>\n",
       "      <td>ec09ddb3-9b0b-4749-9e0d-f94a4a7e5fed</td>\n",
       "      <td>ec09ddb3-9b0b-4749-9e0d-f94a4a7e5fed.png</td>\n",
       "      <td>negative</td>\n",
       "      <td>rsna</td>\n",
       "      <td>0</td>\n",
       "    </tr>\n",
       "    <tr>\n",
       "      <th>398</th>\n",
       "      <td>abff4044-3c0a-458f-b0c7-04254be7fc0c</td>\n",
       "      <td>abff4044-3c0a-458f-b0c7-04254be7fc0c.png</td>\n",
       "      <td>negative</td>\n",
       "      <td>rsna</td>\n",
       "      <td>0</td>\n",
       "    </tr>\n",
       "    <tr>\n",
       "      <th>399</th>\n",
       "      <td>27b32500-40ef-4c14-ab88-ace5e9ceea27</td>\n",
       "      <td>27b32500-40ef-4c14-ab88-ace5e9ceea27.png</td>\n",
       "      <td>negative</td>\n",
       "      <td>rsna</td>\n",
       "      <td>0</td>\n",
       "    </tr>\n",
       "  </tbody>\n",
       "</table>\n",
       "<p>400 rows × 5 columns</p>\n",
       "</div>"
      ],
      "text/plain": [
       "                               patient id  \\\n",
       "0                           419639-003251   \n",
       "1                           419639-001464   \n",
       "2                           419639-000918   \n",
       "3                           419639-003318   \n",
       "4                           419639-001015   \n",
       "..                                    ...   \n",
       "395  a77b32f6-1999-4cc6-8a0d-1ef7e53850f0   \n",
       "396  41bf2042-53a2-44a8-9a29-55e643af5ac0   \n",
       "397  ec09ddb3-9b0b-4749-9e0d-f94a4a7e5fed   \n",
       "398  abff4044-3c0a-458f-b0c7-04254be7fc0c   \n",
       "399  27b32500-40ef-4c14-ab88-ace5e9ceea27   \n",
       "\n",
       "                                     file_name     class  source  label  \n",
       "0    MIDRC-RICORD-1C-419639-003251-46647-0.png  positive  ricord      1  \n",
       "1    MIDRC-RICORD-1C-419639-001464-39871-0.png  positive  ricord      1  \n",
       "2    MIDRC-RICORD-1C-419639-000918-78965-0.png  positive  ricord      1  \n",
       "3    MIDRC-RICORD-1C-419639-003318-64285-0.png  positive  ricord      1  \n",
       "4    MIDRC-RICORD-1C-419639-001015-81591-0.png  positive  ricord      1  \n",
       "..                                         ...       ...     ...    ...  \n",
       "395   a77b32f6-1999-4cc6-8a0d-1ef7e53850f0.png  negative    rsna      0  \n",
       "396   41bf2042-53a2-44a8-9a29-55e643af5ac0.png  negative    rsna      0  \n",
       "397   ec09ddb3-9b0b-4749-9e0d-f94a4a7e5fed.png  negative    rsna      0  \n",
       "398   abff4044-3c0a-458f-b0c7-04254be7fc0c.png  negative    rsna      0  \n",
       "399   27b32500-40ef-4c14-ab88-ace5e9ceea27.png  negative    rsna      0  \n",
       "\n",
       "[400 rows x 5 columns]"
      ]
     },
     "execution_count": 17,
     "metadata": {},
     "output_type": "execute_result"
    }
   ],
   "source": [
    "test_txt['label'] = np.where(test_txt['class']== 'negative', 0, 1) #tao cot label theo dk cua class\n",
    "test_txt"
   ]
  },
  {
   "cell_type": "code",
   "execution_count": 18,
   "metadata": {},
   "outputs": [
    {
     "data": {
      "text/html": [
       "<div>\n",
       "<style scoped>\n",
       "    .dataframe tbody tr th:only-of-type {\n",
       "        vertical-align: middle;\n",
       "    }\n",
       "\n",
       "    .dataframe tbody tr th {\n",
       "        vertical-align: top;\n",
       "    }\n",
       "\n",
       "    .dataframe thead th {\n",
       "        text-align: right;\n",
       "    }\n",
       "</style>\n",
       "<table border=\"1\" class=\"dataframe\">\n",
       "  <thead>\n",
       "    <tr style=\"text-align: right;\">\n",
       "      <th></th>\n",
       "      <th>file_name</th>\n",
       "      <th>label</th>\n",
       "    </tr>\n",
       "  </thead>\n",
       "  <tbody>\n",
       "    <tr>\n",
       "      <th>0</th>\n",
       "      <td>MIDRC-RICORD-1C-419639-003251-46647-0.png</td>\n",
       "      <td>1</td>\n",
       "    </tr>\n",
       "    <tr>\n",
       "      <th>1</th>\n",
       "      <td>MIDRC-RICORD-1C-419639-001464-39871-0.png</td>\n",
       "      <td>1</td>\n",
       "    </tr>\n",
       "    <tr>\n",
       "      <th>2</th>\n",
       "      <td>MIDRC-RICORD-1C-419639-000918-78965-0.png</td>\n",
       "      <td>1</td>\n",
       "    </tr>\n",
       "    <tr>\n",
       "      <th>3</th>\n",
       "      <td>MIDRC-RICORD-1C-419639-003318-64285-0.png</td>\n",
       "      <td>1</td>\n",
       "    </tr>\n",
       "    <tr>\n",
       "      <th>4</th>\n",
       "      <td>MIDRC-RICORD-1C-419639-001015-81591-0.png</td>\n",
       "      <td>1</td>\n",
       "    </tr>\n",
       "    <tr>\n",
       "      <th>...</th>\n",
       "      <td>...</td>\n",
       "      <td>...</td>\n",
       "    </tr>\n",
       "    <tr>\n",
       "      <th>395</th>\n",
       "      <td>a77b32f6-1999-4cc6-8a0d-1ef7e53850f0.png</td>\n",
       "      <td>0</td>\n",
       "    </tr>\n",
       "    <tr>\n",
       "      <th>396</th>\n",
       "      <td>41bf2042-53a2-44a8-9a29-55e643af5ac0.png</td>\n",
       "      <td>0</td>\n",
       "    </tr>\n",
       "    <tr>\n",
       "      <th>397</th>\n",
       "      <td>ec09ddb3-9b0b-4749-9e0d-f94a4a7e5fed.png</td>\n",
       "      <td>0</td>\n",
       "    </tr>\n",
       "    <tr>\n",
       "      <th>398</th>\n",
       "      <td>abff4044-3c0a-458f-b0c7-04254be7fc0c.png</td>\n",
       "      <td>0</td>\n",
       "    </tr>\n",
       "    <tr>\n",
       "      <th>399</th>\n",
       "      <td>27b32500-40ef-4c14-ab88-ace5e9ceea27.png</td>\n",
       "      <td>0</td>\n",
       "    </tr>\n",
       "  </tbody>\n",
       "</table>\n",
       "<p>400 rows × 2 columns</p>\n",
       "</div>"
      ],
      "text/plain": [
       "                                     file_name  label\n",
       "0    MIDRC-RICORD-1C-419639-003251-46647-0.png      1\n",
       "1    MIDRC-RICORD-1C-419639-001464-39871-0.png      1\n",
       "2    MIDRC-RICORD-1C-419639-000918-78965-0.png      1\n",
       "3    MIDRC-RICORD-1C-419639-003318-64285-0.png      1\n",
       "4    MIDRC-RICORD-1C-419639-001015-81591-0.png      1\n",
       "..                                         ...    ...\n",
       "395   a77b32f6-1999-4cc6-8a0d-1ef7e53850f0.png      0\n",
       "396   41bf2042-53a2-44a8-9a29-55e643af5ac0.png      0\n",
       "397   ec09ddb3-9b0b-4749-9e0d-f94a4a7e5fed.png      0\n",
       "398   abff4044-3c0a-458f-b0c7-04254be7fc0c.png      0\n",
       "399   27b32500-40ef-4c14-ab88-ace5e9ceea27.png      0\n",
       "\n",
       "[400 rows x 2 columns]"
      ]
     },
     "execution_count": 18,
     "metadata": {},
     "output_type": "execute_result"
    }
   ],
   "source": [
    "#chi lay cot filename va label (1,4)\n",
    "test_txt1 = test_txt.iloc[:,[1,4]]\n",
    "test_txt1"
   ]
  },
  {
   "cell_type": "code",
   "execution_count": 19,
   "metadata": {},
   "outputs": [],
   "source": [
    "path_label = ['../COVIDx/EDA_Test/Negative/', '../COVIDx/EDA_Test/Positive/'] # tạo 2 thư mục chứa ảnh phân vùng theo nhãn (Positive - Negative)\n",
    "\n",
    "for i in range(len(path_label)):\n",
    "    if not path.exists(path_label[i]): \n",
    "        os.mkdir(path_label[i])"
   ]
  },
  {
   "cell_type": "code",
   "execution_count": 20,
   "metadata": {},
   "outputs": [
    {
     "name": "stderr",
     "output_type": "stream",
     "text": [
      "/home/trucloan/anaconda3/envs/loan/lib/python3.7/site-packages/ipykernel_launcher.py:2: SettingWithCopyWarning: \n",
      "A value is trying to be set on a copy of a slice from a DataFrame\n",
      "\n",
      "See the caveats in the documentation: https://pandas.pydata.org/pandas-docs/stable/user_guide/indexing.html#returning-a-view-versus-a-copy\n",
      "  \n"
     ]
    },
    {
     "data": {
      "text/plain": [
       "../COVIDx/EDA_Test/Negative/    200\n",
       "../COVIDx/EDA_Test/Positive/    200\n",
       "Name: label, dtype: int64"
      ]
     },
     "execution_count": 20,
     "metadata": {},
     "output_type": "execute_result"
    }
   ],
   "source": [
    "lb = test_txt['label']\n",
    "lb['bins'] = pd.cut(x = test_txt['label'], bins = 2, labels=path_label)\n",
    "lb['bins'].value_counts()"
   ]
  },
  {
   "cell_type": "code",
   "execution_count": 21,
   "metadata": {},
   "outputs": [],
   "source": [
    "#copy ảnh tải về phân chia vào từng thư mục theo label\n",
    "source = '../COVIDx/test/'\n",
    "for i in range(len(test_txt)):\n",
    "    if (test_txt['label'][i] ==0):\n",
    "        shutil.copy(source + test_txt['file_name'][i], path_label[0])\n",
    "    elif (test_txt['label'][i] == 1):\n",
    "        shutil.copy(source + test_txt['file_name'][i], path_label[1])"
   ]
  },
  {
   "cell_type": "code",
   "execution_count": 22,
   "metadata": {},
   "outputs": [
    {
     "name": "stdout",
     "output_type": "stream",
     "text": [
      "../COVIDx/EDA_Test/Negative/ 200\n",
      "../COVIDx/EDA_Test/Positive/ 200\n"
     ]
    }
   ],
   "source": [
    "#xem có bao nhiêu file trong thư mục\n",
    "for i in range(len(path_label)):\n",
    "    print(path_label[i], len(os.listdir(path_label[i]))) "
   ]
  },
  {
   "cell_type": "code",
   "execution_count": null,
   "metadata": {},
   "outputs": [],
   "source": []
  },
  {
   "cell_type": "code",
   "execution_count": null,
   "metadata": {},
   "outputs": [],
   "source": []
  }
 ],
 "metadata": {
  "kernelspec": {
   "display_name": "Python 3.7.13 ('loan')",
   "language": "python",
   "name": "python3"
  },
  "language_info": {
   "codemirror_mode": {
    "name": "ipython",
    "version": 3
   },
   "file_extension": ".py",
   "mimetype": "text/x-python",
   "name": "python",
   "nbconvert_exporter": "python",
   "pygments_lexer": "ipython3",
   "version": "3.7.13"
  },
  "orig_nbformat": 4,
  "vscode": {
   "interpreter": {
    "hash": "ddabf1f45ecbb2c6d27dcc5dbdd633ad86c7a127856549164ced98c46bc4efe7"
   }
  }
 },
 "nbformat": 4,
 "nbformat_minor": 2
}
